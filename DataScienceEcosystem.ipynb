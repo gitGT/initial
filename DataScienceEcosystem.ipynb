{
 "cells": [
  {
   "cell_type": "code",
   "execution_count": null,
   "id": "6879ee5e-3d4d-4536-bbbd-26b77afa61cd",
   "metadata": {},
   "outputs": [],
   "source": [
    "# Data Science Tools and Ecosystem"
   ]
  },
  {
   "cell_type": "markdown",
   "id": "815e8294-4690-45fe-8a76-a2284a35ebb3",
   "metadata": {},
   "source": [
    "# Data Science Tools and Ecosystem"
   ]
  },
  {
   "cell_type": "code",
   "execution_count": null,
   "id": "dcabba2c-c548-4047-ae2f-c82d7ab93ef1",
   "metadata": {},
   "outputs": [],
   "source": [
    "## Author\n",
    "Greg Thomas"
   ]
  },
  {
   "cell_type": "markdown",
   "id": "980bc585-b5c4-46d4-b135-82283e752873",
   "metadata": {},
   "source": [
    "## Author\n",
    "Greg Thomas"
   ]
  },
  {
   "cell_type": "code",
   "execution_count": null,
   "id": "0f62da5e-be9d-47d0-8953-f269ab7a9439",
   "metadata": {},
   "outputs": [],
   "source": [
    "#### In this notebook, Data Science Tools and Ecosystem are summarized."
   ]
  },
  {
   "cell_type": "markdown",
   "id": "9ecd27ca-9080-4fe5-8a55-946ca6f9d929",
   "metadata": {},
   "source": [
    "#### In this notebook, Data Science Tools and Ecosystem are summarized."
   ]
  },
  {
   "cell_type": "code",
   "execution_count": null,
   "id": "fcb910ca-fc98-4b89-81ef-63ecf24c46c9",
   "metadata": {},
   "outputs": [],
   "source": [
    "<b>Objectives</b>\n",
    "- List popular languages used in Data Science\n",
    "- List popular Data Science libraries\n",
    "- List Data Science Tools\n",
    "- illustrate arithmetic operations in Python"
   ]
  },
  {
   "cell_type": "markdown",
   "id": "53f6c91c-69ef-41a7-a9ae-16cadf114128",
   "metadata": {},
   "source": [
    "<b>Objectives</b>\n",
    "- List popular languages used in Data Science\n",
    "- List popular Data Science libraries\n",
    "- List Data Science Tools\n",
    "- illustrate arithmetic operations in Python"
   ]
  },
  {
   "cell_type": "code",
   "execution_count": null,
   "id": "52db1ddd-59fb-482f-ad32-d72712a11ad1",
   "metadata": {},
   "outputs": [],
   "source": [
    "#### Some of the popular languages that Data Scientists use are:\n",
    "<ol>\n",
    "<li>Python</li>\n",
    "<li>R</li>\n",
    "<li>Scala</li>\n",
    "</ol>"
   ]
  },
  {
   "cell_type": "markdown",
   "id": "ea61b1db-872f-47ae-8805-7cb595d7f0bd",
   "metadata": {},
   "source": [
    "#### Some of the popular languages that Data Scientists use are:\n",
    "<ol>\n",
    "<li>Python</li>\n",
    "<li>R</li>\n",
    "<li>Scala</li>\n",
    "</ol>"
   ]
  },
  {
   "cell_type": "code",
   "execution_count": null,
   "id": "f1aca7ff-b7b2-4bcb-9229-997b2a5ac654",
   "metadata": {},
   "outputs": [],
   "source": [
    "#### Some of the commonly used libraries used by Data Scientists include:\n",
    "<ol>\n",
    "<li>Matplotlib</li>\n",
    "<li>scikit-learn</li>\n",
    "<li>ggplot2</li>\n",
    "</ol>"
   ]
  },
  {
   "cell_type": "markdown",
   "id": "f53b9484-749f-486c-a6bf-385181c64a80",
   "metadata": {},
   "source": [
    "#### Some of the commonly used libraries used by Data Scientists include:\n",
    "<ol>\n",
    "<li>Matplotlib</li>\n",
    "<li>scikit-learn</li>\n",
    "<li>ggplot2</li>\n",
    "</ol>"
   ]
  },
  {
   "cell_type": "code",
   "execution_count": null,
   "id": "5287b3a3-ed87-4d32-bdf6-8c1e7a80e3a9",
   "metadata": {},
   "outputs": [],
   "source": [
    "| Data Science Tools |\n",
    "|------------------|\n",
    "|R|\n",
    "|Jupyter Notebook|\n",
    "|TensorFlow|"
   ]
  },
  {
   "cell_type": "markdown",
   "id": "a8d3fbce-cfca-4984-8797-d54ba6143966",
   "metadata": {},
   "source": [
    "| Data Science Tools |\n",
    "|------------------|\n",
    "|R|\n",
    "|Jupyter Notebook|\n",
    "|TensorFlow|"
   ]
  },
  {
   "cell_type": "markdown",
   "id": "9cb8ce01-9050-42b3-8fb0-91dd3bf8abef",
   "metadata": {},
   "source": [
    "#### Below are a few examples of evaluating arithmetic expressions in Python\n",
    "#### <u>Addition</u>      "
   ]
  },
  {
   "cell_type": "code",
   "execution_count": 4,
   "id": "6e902047-abe8-4f1f-afb9-22a02c3b9f5c",
   "metadata": {},
   "outputs": [
    {
     "name": "stdout",
     "output_type": "stream",
     "text": [
      "392\n"
     ]
    }
   ],
   "source": [
    "res = 127 + 255 +10\n",
    "print (res)"
   ]
  },
  {
   "cell_type": "markdown",
   "id": "35ea6666-aa50-435e-a74a-5cc88b89d65a",
   "metadata": {},
   "source": [
    "####  <u>Subtraction</u>  "
   ]
  },
  {
   "cell_type": "code",
   "execution_count": 5,
   "id": "e9f143b5-a004-4b46-a36f-58a8eaddc211",
   "metadata": {},
   "outputs": [
    {
     "name": "stdout",
     "output_type": "stream",
     "text": [
      "3530\n"
     ]
    }
   ],
   "source": [
    "res = 3650 - 120\n",
    "print (res)"
   ]
  },
  {
   "cell_type": "markdown",
   "id": "b5e51188-192b-465e-bf4d-be70580665a7",
   "metadata": {},
   "source": [
    "####  <u>Division</u> "
   ]
  },
  {
   "cell_type": "code",
   "execution_count": 6,
   "id": "688fa0cc-4429-4d09-979c-44c12869aac1",
   "metadata": {},
   "outputs": [
    {
     "name": "stdout",
     "output_type": "stream",
     "text": [
      "175.0\n"
     ]
    }
   ],
   "source": [
    "res = 87.5 / 0.5\n",
    "print (res)"
   ]
  },
  {
   "cell_type": "markdown",
   "id": "1ba3e897-4124-4975-8b59-ede45ffbd782",
   "metadata": {},
   "source": [
    "####  <u>Exponentiation</u>"
   ]
  },
  {
   "cell_type": "code",
   "execution_count": 10,
   "id": "948df133-98aa-4d0c-abcb-5c10bd42ea04",
   "metadata": {},
   "outputs": [
    {
     "name": "stdout",
     "output_type": "stream",
     "text": [
      "65536\n"
     ]
    }
   ],
   "source": [
    "res = 2**16\n",
    "print (res)"
   ]
  },
  {
   "cell_type": "markdown",
   "id": "e8314d3d-e839-465f-8584-b8b62e674490",
   "metadata": {},
   "source": [
    "#### This a simple arithmetic expression to mutiply then add integers"
   ]
  },
  {
   "cell_type": "code",
   "execution_count": 4,
   "id": "ca624564-0ff2-4be5-a57e-e2ba921962c6",
   "metadata": {},
   "outputs": [
    {
     "name": "stdout",
     "output_type": "stream",
     "text": [
      "17\n"
     ]
    }
   ],
   "source": [
    "print ((3*4)+5)"
   ]
  },
  {
   "cell_type": "markdown",
   "id": "9cdaf507-d1e4-4602-b73b-9b499d8314b3",
   "metadata": {},
   "source": [
    "####  This will convert 200 minutes to hours by dividing by 60"
   ]
  },
  {
   "cell_type": "code",
   "execution_count": 7,
   "id": "21e153c4-3452-4dd6-bf3e-9034f9ef32d1",
   "metadata": {},
   "outputs": [
    {
     "name": "stdout",
     "output_type": "stream",
     "text": [
      "200 minutes in hours is  3.33\n"
     ]
    }
   ],
   "source": [
    "Hours = 200 / 60\n",
    "print (\"200 minutes in hours is \", round((Hours),2))"
   ]
  },
  {
   "cell_type": "code",
   "execution_count": null,
   "id": "0cb9831a-0261-4975-867a-b1e60026293b",
   "metadata": {},
   "outputs": [],
   "source": []
  }
 ],
 "metadata": {
  "kernelspec": {
   "display_name": "Python 3 (ipykernel)",
   "language": "python",
   "name": "python3"
  },
  "language_info": {
   "codemirror_mode": {
    "name": "ipython",
    "version": 3
   },
   "file_extension": ".py",
   "mimetype": "text/x-python",
   "name": "python",
   "nbconvert_exporter": "python",
   "pygments_lexer": "ipython3",
   "version": "3.11.5"
  }
 },
 "nbformat": 4,
 "nbformat_minor": 5
}
