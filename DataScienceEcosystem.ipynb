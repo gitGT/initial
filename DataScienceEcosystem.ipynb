{
 "cells": [
  {
   "cell_type": "code",
   "execution_count": null,
   "id": "6879ee5e-3d4d-4536-bbbd-26b77afa61cd",
   "metadata": {},
   "outputs": [],
   "source": [
    "# Data Science Tools and Ecosystem"
   ]
  },
  {
   "cell_type": "markdown",
   "id": "815e8294-4690-45fe-8a76-a2284a35ebb3",
   "metadata": {},
   "source": [
    "# Data Science Tools and Ecosystem"
   ]
  },
  {
   "cell_type": "code",
   "execution_count": null,
   "id": "dcabba2c-c548-4047-ae2f-c82d7ab93ef1",
   "metadata": {},
   "outputs": [],
   "source": [
    "## Author\n",
    "Greg Thomas"
   ]
  },
  {
   "cell_type": "markdown",
   "id": "980bc585-b5c4-46d4-b135-82283e752873",
   "metadata": {},
   "source": [
    "## Author\n",
    "Greg Thomas"
   ]
  },
  {
   "cell_type": "code",
   "execution_count": null,
   "id": "0f62da5e-be9d-47d0-8953-f269ab7a9439",
   "metadata": {},
   "outputs": [],
   "source": [
    "#### In this notebook, Data Science Tools and Ecosystem are summarized."
   ]
  },
  {
   "cell_type": "markdown",
   "id": "9ecd27ca-9080-4fe5-8a55-946ca6f9d929",
   "metadata": {},
   "source": [
    "#### In this notebook, Data Science Tools and Ecosystem are summarized."
   ]
  },
  {
   "cell_type": "code",
   "execution_count": null,
   "id": "5d3a9d2b-7645-452f-96cc-85a816b1959e",
   "metadata": {},
   "outputs": [],
   "source": [
    "#### Some of the popular languages that Data Scientists use are:\n",
    "<ol>\n",
    "<li>Python</li>\n",
    "<li>R</li>\n",
    "<li>Scala</li>\n",
    "</ol>"
   ]
  },
  {
   "cell_type": "markdown",
   "id": "ea61b1db-872f-47ae-8805-7cb595d7f0bd",
   "metadata": {},
   "source": [
    "#### Some of the popular languages that Data Scientists use are:\n",
    "<ol>\n",
    "<li>Python</li>\n",
    "<li>R</li>\n",
    "<li>Scala</li>\n",
    "</ol>"
   ]
  },
  {
   "cell_type": "code",
   "execution_count": null,
   "id": "2b1e8929-38e3-4105-b472-104694a1fe9e",
   "metadata": {},
   "outputs": [],
   "source": [
    "#### Some of the commonly used libraries used by Data Scientists include:\n",
    "<ol>\n",
    "<li>Matplotlib</li>\n",
    "<li>scikit-learn</li>\n",
    "<li>ggplot2</li>\n",
    "</ol>"
   ]
  },
  {
   "cell_type": "markdown",
   "id": "f53b9484-749f-486c-a6bf-385181c64a80",
   "metadata": {},
   "source": [
    "#### Some of the commonly used libraries used by Data Scientists include:\n",
    "<ol>\n",
    "<li>Matplotlib</li>\n",
    "<li>scikit-learn</li>\n",
    "<li>ggplot2</li>\n",
    "</ol>"
   ]
  },
  {
   "cell_type": "code",
   "execution_count": null,
   "id": "5287b3a3-ed87-4d32-bdf6-8c1e7a80e3a9",
   "metadata": {},
   "outputs": [],
   "source": [
    "| Data Science Tools |\n",
    "|------------------|\n",
    "|R|\n",
    "|Jupyter Notebook|\n",
    "|TensorFlow|"
   ]
  },
  {
   "cell_type": "markdown",
   "id": "a8d3fbce-cfca-4984-8797-d54ba6143966",
   "metadata": {},
   "source": [
    "| Data Science Tools |\n",
    "|------------------|\n",
    "|R|\n",
    "|Jupyter Notebook|\n",
    "|TensorFlow|"
   ]
  },
  {
   "cell_type": "code",
   "execution_count": null,
   "id": "f171a08d-5eee-4d87-91f6-497a23be127e",
   "metadata": {},
   "outputs": [],
   "source": [
    "#### Below are a few examples of evaluating arithmetic expressions in Python\n",
    "#### <u>Addition</u>      \n",
    "#### res = N1 + N2 + N3\n",
    "####  <u>Subtraction</u>      \n",
    "#### res = X - Y\n",
    "####  <u>Division</u>         \n",
    "#### res = val1 / val2\n",
    "####  <u>Multiplication</u>   \n",
    "#### res = Q*632\n",
    "####  <u>Exponentiation</u>   \n",
    "#### res = K**10"
   ]
  },
  {
   "cell_type": "markdown",
   "id": "4700ec37-e005-4961-8038-30e53d448178",
   "metadata": {},
   "source": [
    "#### Below are a few examples of evaluating arithmetic expressions in Python\n",
    "#### <u>Addition</u>      \n",
    "#### res = N1 + N2 + N3\n",
    "####  <u>Subtraction</u>      \n",
    "#### res = X - Y\n",
    "####  <u>Division</u>         \n",
    "#### res = val1 / val2\n",
    "####  <u>Multiplication</u>   \n",
    "#### res = Q*632\n",
    "####  <u>Exponentiation</u>   \n",
    "#### res = K**10"
   ]
  },
  {
   "cell_type": "markdown",
   "id": "e8314d3d-e839-465f-8584-b8b62e674490",
   "metadata": {},
   "source": [
    "#### This a simple arithmetic expression to mutiply then add integers"
   ]
  },
  {
   "cell_type": "code",
   "execution_count": 4,
   "id": "ca624564-0ff2-4be5-a57e-e2ba921962c6",
   "metadata": {},
   "outputs": [
    {
     "name": "stdout",
     "output_type": "stream",
     "text": [
      "17\n"
     ]
    }
   ],
   "source": [
    "print ((3*4)+5)"
   ]
  },
  {
   "cell_type": "markdown",
   "id": "9cdaf507-d1e4-4602-b73b-9b499d8314b3",
   "metadata": {},
   "source": [
    "####  This will convert 200 minutes to hours by dividing by 60"
   ]
  },
  {
   "cell_type": "code",
   "execution_count": 7,
   "id": "21e153c4-3452-4dd6-bf3e-9034f9ef32d1",
   "metadata": {},
   "outputs": [
    {
     "name": "stdout",
     "output_type": "stream",
     "text": [
      "200 minutes in hours is  3.33\n"
     ]
    }
   ],
   "source": [
    "Hours = 200 / 60\n",
    "print (\"200 minutes in hours is \", round((Hours),2))"
   ]
  },
  {
   "cell_type": "code",
   "execution_count": null,
   "id": "9c7dd98a-f831-455a-a1e7-efe25943cbe8",
   "metadata": {},
   "outputs": [],
   "source": [
    "<b>Objectives</b>\n",
    "- List popular languages used in Data Science\n",
    "- List popular Data Science libraries\n",
    "- List Data Science Tools\n",
    "- illustrate arithmetic operations in Python\n"
   ]
  },
  {
   "cell_type": "markdown",
   "id": "ce3ae08c-7741-4c31-99fb-f2a5c628f00d",
   "metadata": {},
   "source": [
    "<b>Objectives</b>\n",
    "- List popular languages used in Data Science\n",
    "- List popular Data Science libraries\n",
    "- List Data Science Tools\n",
    "- illustrate arithmetic operations in Python\n"
   ]
  },
  {
   "cell_type": "code",
   "execution_count": null,
   "id": "0cb9831a-0261-4975-867a-b1e60026293b",
   "metadata": {},
   "outputs": [],
   "source": []
  }
 ],
 "metadata": {
  "kernelspec": {
   "display_name": "Python 3 (ipykernel)",
   "language": "python",
   "name": "python3"
  },
  "language_info": {
   "codemirror_mode": {
    "name": "ipython",
    "version": 3
   },
   "file_extension": ".py",
   "mimetype": "text/x-python",
   "name": "python",
   "nbconvert_exporter": "python",
   "pygments_lexer": "ipython3",
   "version": "3.11.5"
  }
 },
 "nbformat": 4,
 "nbformat_minor": 5
}
